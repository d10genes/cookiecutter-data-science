{
 "cells": [
  {
   "cell_type": "markdown",
   "metadata": {
    "deletable": true,
    "editable": true,
    "toc": "true"
   },
   "source": [
    " # Table of Contents\n",
    "<div class=\"toc\" style=\"margin-top: 1em;\"><ul class=\"toc-item\" id=\"toc-level0\"><ul class=\"toc-item\"><li><span><a href=\"http://localhost:8888/notebooks/notebooks/io.ipynb#Import\" data-toc-modified-id=\"Import-0.1\"><span class=\"toc-item-num\">0.1&nbsp;&nbsp;</span>Import</a></span><ul class=\"toc-item\"><li><span><a href=\"http://localhost:8888/notebooks/notebooks/io.ipynb#Common\" data-toc-modified-id=\"Common-0.1.1\"><span class=\"toc-item-num\">0.1.1&nbsp;&nbsp;</span>Common</a></span></li><li><span><a href=\"http://localhost:8888/notebooks/notebooks/io.ipynb#Libs\" data-toc-modified-id=\"Libs-0.1.2\"><span class=\"toc-item-num\">0.1.2&nbsp;&nbsp;</span>Libs</a></span></li><li><span><a href=\"http://localhost:8888/notebooks/notebooks/io.ipynb#Special\" data-toc-modified-id=\"Special-0.1.3\"><span class=\"toc-item-num\">0.1.3&nbsp;&nbsp;</span>Special</a></span></li></ul></li><li><span><a href=\"http://localhost:8888/notebooks/notebooks/io.ipynb#Load-longitudinal-retention\" data-toc-modified-id=\"Load-longitudinal-retention-0.2\"><span class=\"toc-item-num\">0.2&nbsp;&nbsp;</span>Load longitudinal retention</a></span><ul class=\"toc-item\"><li><span><a href=\"http://localhost:8888/notebooks/notebooks/io.ipynb#Move\" data-toc-modified-id=\"Move-0.2.1\"><span class=\"toc-item-num\">0.2.1&nbsp;&nbsp;</span>Move</a></span></li><li><span><a href=\"http://localhost:8888/notebooks/notebooks/io.ipynb#Convert\" data-toc-modified-id=\"Convert-0.2.2\"><span class=\"toc-item-num\">0.2.2&nbsp;&nbsp;</span>Convert</a></span></li></ul></li><li><span><a href=\"http://localhost:8888/notebooks/notebooks/io.ipynb#Load-longitudinal-seq=1\" data-toc-modified-id=\"Load-longitudinal-seq=1-0.3\"><span class=\"toc-item-num\">0.3&nbsp;&nbsp;</span>Load longitudinal seq=1</a></span><ul class=\"toc-item\"><li><span><a href=\"http://localhost:8888/notebooks/notebooks/io.ipynb#Convert-to-parq\" data-toc-modified-id=\"Convert-to-parq-0.3.1\"><span class=\"toc-item-num\">0.3.1&nbsp;&nbsp;</span>Convert to parq</a></span></li></ul></li><li><span><a href=\"http://localhost:8888/notebooks/notebooks/io.ipynb#Load-longitudinal-seq=2\" data-toc-modified-id=\"Load-longitudinal-seq=2-0.4\"><span class=\"toc-item-num\">0.4&nbsp;&nbsp;</span>Load longitudinal seq=2</a></span><ul class=\"toc-item\"><li><span><a href=\"http://localhost:8888/notebooks/notebooks/io.ipynb#Move-raw\" data-toc-modified-id=\"Move-raw-0.4.1\"><span class=\"toc-item-num\">0.4.1&nbsp;&nbsp;</span>Move raw</a></span></li><li><span><a href=\"http://localhost:8888/notebooks/notebooks/io.ipynb#Convert-to-parq\" data-toc-modified-id=\"Convert-to-parq-0.4.2\"><span class=\"toc-item-num\">0.4.2&nbsp;&nbsp;</span>Convert to parq</a></span><ul class=\"toc-item\"><li><span><a href=\"http://localhost:8888/notebooks/notebooks/io.ipynb#debug\" data-toc-modified-id=\"debug-0.4.2.1\"><span class=\"toc-item-num\">0.4.2.1&nbsp;&nbsp;</span>debug</a></span></li><li><span><a href=\"http://localhost:8888/notebooks/notebooks/io.ipynb#debug-end\" data-toc-modified-id=\"debug-end-0.4.2.2\"><span class=\"toc-item-num\">0.4.2.2&nbsp;&nbsp;</span>debug end</a></span></li></ul></li></ul></li><li><span><a href=\"http://localhost:8888/notebooks/notebooks/io.ipynb#Load-Onboarding-A/B\" data-toc-modified-id=\"Load-Onboarding-A/B-0.5\"><span class=\"toc-item-num\">0.5&nbsp;&nbsp;</span>Load Onboarding A/B</a></span></li><li><span><a href=\"http://localhost:8888/notebooks/notebooks/io.ipynb#OOM\" data-toc-modified-id=\"OOM-0.6\"><span class=\"toc-item-num\">0.6&nbsp;&nbsp;</span>OOM</a></span></li></ul></ul></div>"
   ]
  },
  {
   "cell_type": "markdown",
   "metadata": {
    "deletable": true,
    "editable": true
   },
   "source": [
    "## Import"
   ]
  },
  {
   "cell_type": "markdown",
   "metadata": {
    "deletable": true,
    "editable": true,
    "heading_collapsed": true
   },
   "source": [
    "### Common"
   ]
  },
  {
   "cell_type": "code",
   "execution_count": 1,
   "metadata": {
    "ExecuteTime": {
     "end_time": "2018-02-22T19:21:11.541454Z",
     "start_time": "2018-02-22T19:21:11.440968Z"
    },
    "collapsed": false,
    "deletable": true,
    "editable": true,
    "hidden": true
   },
   "outputs": [
    {
     "data": {
      "text/plain": [
       "11"
      ]
     },
     "execution_count": 1,
     "metadata": {},
     "output_type": "execute_result"
    }
   ],
   "source": [
    "import boot_utes as bu; bu.reload(bu); from boot_utes import (reload, add_path, path)\n",
    "add_path('../src/', '~/repos/myutils/')"
   ]
  },
  {
   "cell_type": "code",
   "execution_count": 2,
   "metadata": {
    "ExecuteTime": {
     "end_time": "2018-02-22T19:21:11.582796Z",
     "start_time": "2018-02-22T19:21:11.546986Z"
    },
    "collapsed": false,
    "deletable": true,
    "editable": true,
    "hidden": true
   },
   "outputs": [],
   "source": [
    "from collections import defaultdict, Counter, OrderedDict\n",
    "from functools import partial\n",
    "from itertools import count\n",
    "from operator import itemgetter as itg\n",
    "from pprint import pprint\n",
    "import os, sys, itertools as it, simplejson, time\n",
    "from os.path import join\n",
    "from glob import glob"
   ]
  },
  {
   "cell_type": "markdown",
   "metadata": {
    "deletable": true,
    "editable": true,
    "heading_collapsed": true
   },
   "source": [
    "### Libs"
   ]
  },
  {
   "cell_type": "code",
   "execution_count": 3,
   "metadata": {
    "ExecuteTime": {
     "end_time": "2018-02-22T19:21:11.871552Z",
     "start_time": "2018-02-22T19:21:11.586060Z"
    },
    "collapsed": false,
    "deletable": true,
    "editable": true,
    "hidden": true
   },
   "outputs": [],
   "source": [
    "# from gensim.models import Word2Vec\n",
    "\n",
    "import feather\n",
    "import numpy as np\n",
    "import numpy.random as nr\n",
    "import pandas as pd\n",
    "from pandas import DataFrame, Series\n",
    "from pandas.compat import lmap, lrange, lfilter, lzip\n",
    "\n",
    "import toolz.curried as z\n",
    "\n",
    "import matplotlib.pyplot as plt\n",
    "import seaborn as sns\n",
    "%matplotlib inline\n",
    "pd.options.mode.use_inf_as_na = True\n",
    "\n",
    "# %mkdir cache\n",
    "import joblib; mem = joblib.Memory(location='cache')\n",
    "dbx = '/Users/wbeard/miniconda3/envs/tmpdecomp2/bin/databricks'"
   ]
  },
  {
   "cell_type": "code",
   "execution_count": null,
   "metadata": {},
   "outputs": [],
   "source": []
  },
  {
   "cell_type": "code",
   "execution_count": 4,
   "metadata": {
    "ExecuteTime": {
     "end_time": "2018-02-22T19:21:11.880677Z",
     "start_time": "2018-02-22T19:21:11.875390Z"
    },
    "collapsed": true,
    "deletable": true,
    "editable": true,
    "hidden": true
   },
   "outputs": [],
   "source": [
    "def norm_rows(df):\n",
    "    return df.div(df.sum(axis=1), axis=0)"
   ]
  },
  {
   "cell_type": "code",
   "execution_count": 28,
   "metadata": {},
   "outputs": [
    {
     "data": {
      "text/plain": [
       "re.compile(r'part.+?\\.parquet', re.UNICODE)"
      ]
     },
     "execution_count": 28,
     "metadata": {},
     "output_type": "execute_result"
    }
   ],
   "source": [
    "re.compile(r'part.+?\\.parquet')"
   ]
  },
  {
   "cell_type": "code",
   "execution_count": 30,
   "metadata": {},
   "outputs": [
    {
     "data": {
      "text/plain": [
       "re.compile(r'part.+?\\.parquet', re.UNICODE)"
      ]
     },
     "execution_count": 30,
     "metadata": {},
     "output_type": "execute_result"
    }
   ],
   "source": [
    "re.compile(r'part.+?\\.{}'.format('parquet'))"
   ]
  },
  {
   "cell_type": "code",
   "execution_count": 31,
   "metadata": {},
   "outputs": [],
   "source": [
    "from os.path import join\n",
    "import re\n",
    "\n",
    "def get_spk_parq_fn(dir, ext='parquet'):\n",
    "    s3parq_fs = !aws s3 ls $dir/\n",
    "#     print(dir)\n",
    "#     print(s3parq_fs)\n",
    "    spk_parq_re = re.compile(r'part.+?\\.{}'.format(ext))\n",
    "    fn_all = spk_parq_re.findall(s3parq_fs[-1])\n",
    "    if not len(fn_all) == 1:\n",
    "        print('Uh oh: fn_all=', fn_all)\n",
    "    [fn] = fn_all\n",
    "    return fn\n",
    "\n",
    "def show_s3_opts(*dir_elems):\n",
    "    dir = join(*dir_elems)\n",
    "    if not dir.endswith('/'):\n",
    "        dir += '/'\n",
    "    res = !aws s3 ls $dir\n",
    "    return res\n",
    "    \n",
    "def mv_s3_pq(from_dir='', to_dir='data/pings', fn='pings_0125.parq', s3base=None, ext='parquet'):\n",
    "    s3base = s3base or 's3://mozilla-databricks-telemetry-test/wbeard/'\n",
    "    s3dir = join(s3base, from_dir, fn)\n",
    "    \n",
    "    try:\n",
    "        pqn_ = get_spk_parq_fn(s3dir, ext=ext)\n",
    "        print('Found pq file', pqn_)\n",
    "    except IndexError:\n",
    "        print('ERROR: File {} not found'.format(s3dir))\n",
    "        opts = show_s3_opts(s3base, from_dir)\n",
    "        print('\\nPossible options:\\n\\t', '\\n\\t'.join(opts))\n",
    "        return\n",
    "        \n",
    "    \n",
    "    s3loc = join(s3base, from_dir, fn, pqn_)\n",
    "    to_loc = join(to_dir, fn)\n",
    "    \n",
    "    \n",
    "#     print(s3loc)\n",
    "#     print(to_loc)\n",
    "    !aws s3 cp $s3loc $to_loc\n",
    "    return to_loc\n",
    "    \n"
   ]
  },
  {
   "cell_type": "markdown",
   "metadata": {
    "deletable": true,
    "editable": true
   },
   "source": [
    "### Special"
   ]
  },
  {
   "cell_type": "code",
   "execution_count": 5,
   "metadata": {
    "ExecuteTime": {
     "end_time": "2018-02-22T19:21:12.086372Z",
     "start_time": "2018-02-22T19:21:11.883566Z"
    },
    "collapsed": false,
    "deletable": true,
    "editable": true
   },
   "outputs": [
    {
     "ename": "NameError",
     "evalue": "name 'mt' is not defined",
     "output_type": "error",
     "traceback": [
      "\u001b[1;31m---------------------------------------------------------------------------\u001b[0m",
      "\u001b[1;31mNameError\u001b[0m                                 Traceback (most recent call last)",
      "\u001b[1;32m<ipython-input-5-bc1765c6d26a>\u001b[0m in \u001b[0;36m<module>\u001b[1;34m()\u001b[0m\n\u001b[0;32m      8\u001b[0m \u001b[1;32mimport\u001b[0m \u001b[0mnumba_utils\u001b[0m \u001b[1;32mas\u001b[0m \u001b[0mnu\u001b[0m\u001b[1;33m;\u001b[0m \u001b[0mreload\u001b[0m\u001b[1;33m(\u001b[0m\u001b[0mnu\u001b[0m\u001b[1;33m)\u001b[0m\u001b[1;33m\u001b[0m\u001b[0m\n\u001b[0;32m      9\u001b[0m \u001b[1;33m\u001b[0m\u001b[0m\n\u001b[1;32m---> 10\u001b[1;33m \u001b[0mmt\u001b[0m\u001b[1;33m.\u001b[0m\u001b[0mset_mem\u001b[0m\u001b[1;33m(\u001b[0m\u001b[0mmem\u001b[0m\u001b[1;33m=\u001b[0m\u001b[0mmem\u001b[0m\u001b[1;33m,\u001b[0m \u001b[0mjson\u001b[0m\u001b[1;33m=\u001b[0m\u001b[0msimplejson\u001b[0m\u001b[1;33m)\u001b[0m\u001b[1;33m\u001b[0m\u001b[0m\n\u001b[0m\u001b[0;32m     11\u001b[0m \u001b[0msu\u001b[0m\u001b[1;33m.\u001b[0m\u001b[0mset_memo\u001b[0m\u001b[1;33m(\u001b[0m\u001b[0mmemoizer\u001b[0m\u001b[1;33m=\u001b[0m\u001b[0mmt\u001b[0m\u001b[1;33m.\u001b[0m\u001b[0mjson_memo\u001b[0m\u001b[1;33m(\u001b[0m\u001b[1;33m)\u001b[0m\u001b[1;33m)\u001b[0m\u001b[1;33m\u001b[0m\u001b[0m\n\u001b[0;32m     12\u001b[0m \u001b[1;33m(\u001b[0m\u001b[1;34m\";\"\u001b[0m\u001b[1;33m)\u001b[0m\u001b[1;33m\u001b[0m\u001b[0m\n",
      "\u001b[1;31mNameError\u001b[0m: name 'mt' is not defined"
     ]
    }
   ],
   "source": [
    "# import utils.seq_utils as su; reload(su)\n",
    "# import utils.events_utils as eu; reload(eu)\n",
    "# import utils.feather_counter as fc; reload(fc)\n",
    "# import utils.mutes as mt; reload(mt)\n",
    "\n",
    "import myutils as mu\n",
    "import functoolz as fz; reload(fz)\n",
    "import numba_utils as nu; reload(nu)\n",
    "\n",
    "mt.set_mem(mem=mem, json=simplejson)\n",
    "su.set_memo(memoizer=mt.json_memo())\n",
    ";;"
   ]
  },
  {
   "cell_type": "code",
   "execution_count": 9,
   "metadata": {
    "ExecuteTime": {
     "end_time": "2018-02-22T19:21:12.120001Z",
     "start_time": "2018-02-22T19:21:12.088507Z"
    },
    "collapsed": true,
    "deletable": true,
    "editable": true
   },
   "outputs": [],
   "source": [
    "def move_new(dbx_dir, outdir=None, outdir_base='../data/raw/'):\n",
    "    full_dbx_dir = join(\"dbfs:/wbeard/\", dbx_dir)\n",
    "    outdir = join(outdir_base, dbx_dir) if outdir is None else outdir\n",
    "    dbx_fs = !$dbx fs ls $full_dbx_dir\n",
    "    written = os.listdir(outdir)\n",
    "    tobewritten = [f for f in dbx_fs if f not in written]\n",
    "    for f in tobewritten:\n",
    "        dbx_fn = join(full_dbx_dir, f)\n",
    "        print('{} => {}'.format(dbx_fn, outdir))\n",
    "        !$dbx fs cp $dbx_fn $outdir\n",
    "    return tobewritten, written\n",
    "    \n",
    "\n",
    "def keep_moving(dbx_dir, outdir=None, outdir_base='../data/raw/', maxn=5):\n",
    "    while 1:\n",
    "        time.sleep(3)\n",
    "        tobewritten, written = move_new(dbx_dir, outdir=outdir,\n",
    "                                        outdir_base=outdir_base)\n",
    "\n",
    "        if maxn and (len(tobewritten) + len(written) >= maxn):\n",
    "            return\n",
    "        print('.', end='')\n",
    "        \n",
    "        \n",
    "vc = lambda x: Series(x).value_counts(normalize=0).sort_index()\n"
   ]
  },
  {
   "cell_type": "markdown",
   "metadata": {
    "deletable": true,
    "editable": true,
    "heading_collapsed": true
   },
   "source": [
    "## Load longitudinal retention"
   ]
  },
  {
   "cell_type": "markdown",
   "metadata": {
    "deletable": true,
    "editable": true,
    "heading_collapsed": true,
    "hidden": true
   },
   "source": [
    "### Move"
   ]
  },
  {
   "cell_type": "code",
   "execution_count": 50,
   "metadata": {
    "collapsed": false,
    "deletable": true,
    "editable": true,
    "hidden": true
   },
   "outputs": [
    {
     "data": {
      "text/plain": [
       "['file  60520254  s2_201707.msg']"
      ]
     },
     "execution_count": 50,
     "metadata": {},
     "output_type": "execute_result"
    }
   ],
   "source": [
    "dbx_fs = !$dbx fs ls -l \"dbfs:/wbeard/long_ret/\"\n",
    "dbx_fs"
   ]
  },
  {
   "cell_type": "code",
   "execution_count": 52,
   "metadata": {
    "collapsed": false,
    "deletable": true,
    "editable": true,
    "hidden": true
   },
   "outputs": [
    {
     "data": {
      "text/plain": [
       "['s2_201707.msg',\n",
       " 's2_201708.msg',\n",
       " 's2_201709.msg',\n",
       " 's2_201710.msg',\n",
       " 's2_201711.msg']"
      ]
     },
     "execution_count": 52,
     "metadata": {},
     "output_type": "execute_result"
    }
   ],
   "source": [
    "dbx_fs = !$dbx fs ls \"dbfs:/wbeard/long_ret/\"\n",
    "dbx_fs"
   ]
  },
  {
   "cell_type": "code",
   "execution_count": 9,
   "metadata": {
    "collapsed": true,
    "deletable": true,
    "editable": true,
    "hidden": true
   },
   "outputs": [],
   "source": [
    "%mkdir '../data/raw/long_ret/'"
   ]
  },
  {
   "cell_type": "code",
   "execution_count": null,
   "metadata": {
    "collapsed": true,
    "deletable": true,
    "editable": true,
    "hidden": true
   },
   "outputs": [],
   "source": [
    "nfs = 5"
   ]
  },
  {
   "cell_type": "code",
   "execution_count": 53,
   "metadata": {
    "collapsed": false,
    "deletable": true,
    "editable": true,
    "hidden": true
   },
   "outputs": [
    {
     "name": "stdout",
     "output_type": "stream",
     "text": [
      "dbfs:/wbeard/long_ret/s2_201707.msg\n",
      "dbfs:/wbeard/long_ret/s2_201708.msg\n",
      "dbfs:/wbeard/long_ret/s2_201709.msg\n",
      "dbfs:/wbeard/long_ret/s2_201710.msg\n",
      "dbfs:/wbeard/long_ret/s2_201711.msg\n",
      "CPU times: user 3.53 s, sys: 7.51 s, total: 11 s\n",
      "Wall time: 3min 32s\n"
     ]
    }
   ],
   "source": [
    "%%time\n",
    "for dbx_f in dbx_fs[:]:\n",
    "# for dbx_f in ['s2_201707.msg', 's2_201708.msg', 's2_201711.msg']:\n",
    "    dbx_loc = join(\"dbfs:/wbeard/long_ret/\", dbx_f)\n",
    "    print(dbx_loc)\n",
    "    !$dbx fs cp $dbx_loc '../data/raw/long_ret/'"
   ]
  },
  {
   "cell_type": "code",
   "execution_count": 67,
   "metadata": {
    "collapsed": false,
    "deletable": true,
    "editable": true,
    "hidden": true
   },
   "outputs": [],
   "source": [
    "\n",
    "    \n",
    "keep_moving('long_ret')"
   ]
  },
  {
   "cell_type": "markdown",
   "metadata": {
    "deletable": true,
    "editable": true,
    "heading_collapsed": true,
    "hidden": true
   },
   "source": [
    "### Convert"
   ]
  },
  {
   "cell_type": "code",
   "execution_count": 69,
   "metadata": {
    "collapsed": true,
    "deletable": true,
    "editable": true,
    "hidden": true
   },
   "outputs": [],
   "source": [
    "def split_ret_cts(df, col='Ret_0_1_7_30'):\n",
    "    df = df.copy()\n",
    "    pre, *cts = col.split('_')\n",
    "    vals = df[col]\n",
    "    uz = lzip(*vals)\n",
    "    for ctlab, col_vals in zip(cts, zip(*vals)):\n",
    "    #     print(ctlab, col_vals)\n",
    "        df['{}{}'.format(pre, ctlab)] = list(col_vals)\n",
    "    return df.drop(col, axis=1)"
   ]
  },
  {
   "cell_type": "code",
   "execution_count": 70,
   "metadata": {
    "collapsed": false,
    "deletable": true,
    "editable": true,
    "hidden": true
   },
   "outputs": [],
   "source": [
    "raw_loc = '../data/raw/long_ret/*'"
   ]
  },
  {
   "cell_type": "code",
   "execution_count": 71,
   "metadata": {
    "collapsed": true,
    "deletable": true,
    "editable": true,
    "hidden": true
   },
   "outputs": [],
   "source": [
    "intrm_loc = '../data/interim/long_ret/'"
   ]
  },
  {
   "cell_type": "code",
   "execution_count": 72,
   "metadata": {
    "collapsed": false,
    "deletable": true,
    "editable": true,
    "hidden": true
   },
   "outputs": [
    {
     "name": "stdout",
     "output_type": "stream",
     "text": [
      "-> /Users/wbeard/repos/events/data/interim/long_ret/s2_201707.msg.parq\n",
      "CPU times: user 3.87 s, sys: 486 ms, total: 4.36 s\n",
      "Wall time: 4.4 s\n",
      "-> /Users/wbeard/repos/events/data/interim/long_ret/s2_201708.msg.parq\n",
      "CPU times: user 3.23 s, sys: 388 ms, total: 3.62 s\n",
      "Wall time: 3.65 s\n",
      "-> /Users/wbeard/repos/events/data/interim/long_ret/s2_201709.msg.parq\n",
      "CPU times: user 3.59 s, sys: 432 ms, total: 4.02 s\n",
      "Wall time: 4.03 s\n",
      "-> /Users/wbeard/repos/events/data/interim/long_ret/s2_201710.msg.parq\n",
      "CPU times: user 2.77 s, sys: 337 ms, total: 3.11 s\n",
      "Wall time: 3.14 s\n",
      "-> /Users/wbeard/repos/events/data/interim/long_ret/s2_201711.msg.parq\n",
      "CPU times: user 1.07 s, sys: 112 ms, total: 1.18 s\n",
      "Wall time: 1.19 s\n"
     ]
    }
   ],
   "source": [
    "for msg in glob(raw_loc)[::]:\n",
    "#     %time _df = pd.read_msgpack(msg).rename(columns={})\n",
    "    %time eu.load_usage(msg, overwrite=False, transform_df=split_ret_cts, parq=True, outdir=intrm_loc, debug=0)\n",
    "#     break"
   ]
  },
  {
   "cell_type": "markdown",
   "metadata": {
    "deletable": true,
    "editable": true,
    "heading_collapsed": true
   },
   "source": [
    "## Load longitudinal seq=1"
   ]
  },
  {
   "cell_type": "code",
   "execution_count": 7,
   "metadata": {
    "collapsed": true,
    "deletable": true,
    "editable": true,
    "hidden": true
   },
   "outputs": [],
   "source": [
    "s1 = lambda: None\n",
    "s1.raw_loc = '../data/raw/long_s1/'\n",
    "s1.parq_loc = '../data/interim/long_s1/'"
   ]
  },
  {
   "cell_type": "code",
   "execution_count": 28,
   "metadata": {
    "collapsed": false,
    "deletable": true,
    "editable": true,
    "hidden": true
   },
   "outputs": [
    {
     "name": "stdout",
     "output_type": "stream",
     "text": [
      "1\n"
     ]
    }
   ],
   "source": [
    "dbx_fs = !$dbx fs ls \"dbfs:/wbeard/long_s1/\"\n",
    "print(len(dbx_fs))"
   ]
  },
  {
   "cell_type": "code",
   "execution_count": 29,
   "metadata": {
    "collapsed": false,
    "deletable": true,
    "editable": true,
    "hidden": true
   },
   "outputs": [
    {
     "name": "stdout",
     "output_type": "stream",
     "text": [
      "mkdir: ../data/raw/long_s1/: File exists\n"
     ]
    }
   ],
   "source": [
    "%mkdir $s1.raw_loc\n",
    "ls $s1.raw_loc"
   ]
  },
  {
   "cell_type": "code",
   "execution_count": 31,
   "metadata": {
    "collapsed": true,
    "deletable": true,
    "editable": true,
    "hidden": true
   },
   "outputs": [],
   "source": [
    "!rm ../data/raw/long_s1/s2_201711.msg"
   ]
  },
  {
   "cell_type": "code",
   "execution_count": 32,
   "metadata": {
    "collapsed": false,
    "deletable": true,
    "editable": true,
    "hidden": true
   },
   "outputs": [
    {
     "name": "stdout",
     "output_type": "stream",
     "text": [
      "dbfs:/wbeard/long_s1/s2_201711.msg => ../data/raw/long_s1\n"
     ]
    },
    {
     "data": {
      "text/plain": [
       "(['s2_201711.msg'], [])"
      ]
     },
     "execution_count": 32,
     "metadata": {},
     "output_type": "execute_result"
    }
   ],
   "source": [
    "move_new('long_s1', outdir=None, outdir_base='../data/raw/')"
   ]
  },
  {
   "cell_type": "markdown",
   "metadata": {
    "deletable": true,
    "editable": true,
    "hidden": true
   },
   "source": [
    "### Convert to parq"
   ]
  },
  {
   "cell_type": "code",
   "execution_count": 33,
   "metadata": {
    "collapsed": true,
    "deletable": true,
    "editable": true,
    "hidden": true
   },
   "outputs": [],
   "source": [
    "def preproc(df):\n",
    "    df = df.copy()\n",
    "    nullbm = df.N_ev == 1\n",
    "    for c in 'Seq1'.split():\n",
    "        df = df.copy()\n",
    "        df.loc[nullbm, c] = -1\n",
    "        df[c] = df[c].astype(int)\n",
    "    df.loc[nullbm, 'Ev1'] = [((-1, ''),)] * nullbm.sum()\n",
    "    return df\n",
    "\n",
    "rn2 = {c: c[:-1] for c in 'Ev1 Seq1'.split()}\n",
    "keepcols = 'Day0str Last_day Locale_lst Locale_fst N_ev Ret1 Ret7 Ret30'.split()"
   ]
  },
  {
   "cell_type": "code",
   "execution_count": 39,
   "metadata": {
    "collapsed": true,
    "deletable": true,
    "editable": true,
    "hidden": true
   },
   "outputs": [],
   "source": [
    "lef1 = fc.FthDct('../data/interim/cid_long_s1.fth')\n",
    "lef1.clear()"
   ]
  },
  {
   "cell_type": "code",
   "execution_count": 34,
   "metadata": {
    "collapsed": false,
    "deletable": true,
    "editable": true,
    "hidden": true
   },
   "outputs": [
    {
     "data": {
      "application/javascript": [
       "(new Audio('../s.mp3')).play();"
      ],
      "text/plain": [
       "<IPython.core.display.Javascript object>"
      ]
     },
     "metadata": {},
     "output_type": "display_data"
    }
   ],
   "source": [
    "%%javascript\n",
    "(new Audio('../s.mp3')).play();"
   ]
  },
  {
   "cell_type": "code",
   "execution_count": 41,
   "metadata": {
    "collapsed": false,
    "deletable": true,
    "editable": true,
    "hidden": true
   },
   "outputs": [
    {
     "name": "stdout",
     "output_type": "stream",
     "text": [
      "-rw-r--r--  1 wbeard  staff  57348743 Dec  7 11:09 /Users/wbeard/repos/events/data/interim/long_s1/s2_201711.msg.parq\n"
     ]
    }
   ],
   "source": [
    "ls -l /Users/wbeard/repos/events/data/interim/long_s1/s2_201711.msg.parq"
   ]
  },
  {
   "cell_type": "code",
   "execution_count": 40,
   "metadata": {
    "collapsed": false,
    "deletable": true,
    "editable": true,
    "hidden": true
   },
   "outputs": [
    {
     "name": "stdout",
     "output_type": "stream",
     "text": [
      "../data/raw/long_s1/s2_201711.msg\n",
      "-> /Users/wbeard/repos/events/data/interim/long_s1/s2_201711.msg.parq\n",
      "Missing:  {'Client_id', 'Seq1', 'Ev1'}\n",
      "Extra:  {'Ts', 'Cid', 'Seq', 'Ev'}\n",
      "CPU times: user 1min 8s, sys: 4.29 s, total: 1min 12s\n",
      "Wall time: 1min 12s\n",
      "4,313,915\n"
     ]
    }
   ],
   "source": [
    "for i, msgname in enumerate(glob(join(s1.raw_loc, '*.msg'))):\n",
    "    print(msgname)\n",
    "    %time df = eu.load_and_flatten(msgname, cid_dct=lef1, overwrite=0, outdir=s1.parq_loc, parq=True, rn=rn2, keepcols=keepcols, preproc=preproc, verbose=not i)\n",
    "    print('{:,.0f}'.format(len(df)))\n",
    "lef1.save()"
   ]
  },
  {
   "cell_type": "code",
   "execution_count": 25,
   "metadata": {
    "collapsed": false,
    "deletable": true,
    "editable": true,
    "hidden": true
   },
   "outputs": [],
   "source": [
    "%mkdir /Users/wbeard/repos/events/data/interim/long_s1"
   ]
  },
  {
   "cell_type": "code",
   "execution_count": 27,
   "metadata": {
    "collapsed": false,
    "deletable": true,
    "editable": true,
    "hidden": true
   },
   "outputs": [
    {
     "data": {
      "application/javascript": [
       "(new Audio('../s.mp3')).play();"
      ],
      "text/plain": [
       "<IPython.core.display.Javascript object>"
      ]
     },
     "metadata": {},
     "output_type": "display_data"
    }
   ],
   "source": [
    "%%javascript\n",
    "(new Audio('../s.mp3')).play();"
   ]
  },
  {
   "cell_type": "markdown",
   "metadata": {
    "deletable": true,
    "editable": true,
    "heading_collapsed": true
   },
   "source": [
    "## Load longitudinal seq=2"
   ]
  },
  {
   "cell_type": "code",
   "execution_count": 7,
   "metadata": {
    "collapsed": true,
    "deletable": true,
    "editable": true,
    "hidden": true
   },
   "outputs": [],
   "source": [
    "s2 = lambda: None\n",
    "s2.raw_loc = '../data/raw/long_s2/'\n",
    "s2.parq_loc = '../data/interim/long_s2/'"
   ]
  },
  {
   "cell_type": "markdown",
   "metadata": {
    "deletable": true,
    "editable": true,
    "heading_collapsed": true,
    "hidden": true
   },
   "source": [
    "### Move raw"
   ]
  },
  {
   "cell_type": "code",
   "execution_count": 8,
   "metadata": {
    "collapsed": false,
    "deletable": true,
    "editable": true,
    "hidden": true
   },
   "outputs": [
    {
     "name": "stdout",
     "output_type": "stream",
     "text": [
      "5\n"
     ]
    }
   ],
   "source": [
    "dbx_fs = !$dbx fs ls \"dbfs:/wbeard/long_s2/\"\n",
    "print(len(dbx_fs))"
   ]
  },
  {
   "cell_type": "code",
   "execution_count": 9,
   "metadata": {
    "collapsed": true,
    "deletable": true,
    "editable": true,
    "hidden": true
   },
   "outputs": [
    {
     "name": "stdout",
     "output_type": "stream",
     "text": [
      "file  168943253  s2_201707.msg\n",
      "file  134326711  s2_201708.msg\n",
      "file  152242853  s2_201709.msg\n",
      "file  113492956  s2_201710.msg\n",
      "file  115149523  s2_201711.msg\n"
     ]
    }
   ],
   "source": [
    "!$dbx fs ls -l \"dbfs:/wbeard/long_s2/\""
   ]
  },
  {
   "cell_type": "code",
   "execution_count": 8,
   "metadata": {
    "collapsed": false,
    "deletable": true,
    "editable": true,
    "hidden": true
   },
   "outputs": [
    {
     "name": "stdout",
     "output_type": "stream",
     "text": [
      "mkdir: ../data/raw/long_s2/: File exists\n"
     ]
    }
   ],
   "source": [
    "%mkdir $s2.raw_loc"
   ]
  },
  {
   "cell_type": "code",
   "execution_count": 11,
   "metadata": {
    "collapsed": false,
    "deletable": true,
    "editable": true,
    "hidden": true
   },
   "outputs": [
    {
     "name": "stdout",
     "output_type": "stream",
     "text": [
      "dbfs:/wbeard/long_s2/s2_201707.msg => ../data/raw/long_s2\n",
      "dbfs:/wbeard/long_s2/s2_201708.msg => ../data/raw/long_s2\n",
      "dbfs:/wbeard/long_s2/s2_201709.msg => ../data/raw/long_s2\n",
      "dbfs:/wbeard/long_s2/s2_201710.msg => ../data/raw/long_s2\n",
      "dbfs:/wbeard/long_s2/s2_201711.msg => ../data/raw/long_s2\n"
     ]
    },
    {
     "data": {
      "text/plain": [
       "(['s2_201707.msg',\n",
       "  's2_201708.msg',\n",
       "  's2_201709.msg',\n",
       "  's2_201710.msg',\n",
       "  's2_201711.msg'],\n",
       " [])"
      ]
     },
     "execution_count": 11,
     "metadata": {},
     "output_type": "execute_result"
    }
   ],
   "source": [
    "move_new('long_s2', outdir=None, outdir_base='../data/raw/')"
   ]
  },
  {
   "cell_type": "code",
   "execution_count": 20,
   "metadata": {
    "collapsed": false,
    "deletable": true,
    "editable": true,
    "hidden": true
   },
   "outputs": [
    {
     "name": "stdout",
     "output_type": "stream",
     "text": [
      "dbfs:/wbeard/long_s2/s2_201709.msg => ../data/raw/long_s2\n",
      "dbfs:/wbeard/long_s2/s2_201710.msg => ../data/raw/long_s2\n",
      "dbfs:/wbeard/long_s2/s2_201711.msg => ../data/raw/long_s2\n"
     ]
    }
   ],
   "source": [
    "keep_moving('long_s2', outdir=None, outdir_base='../data/raw/')"
   ]
  },
  {
   "cell_type": "code",
   "execution_count": 13,
   "metadata": {
    "collapsed": false,
    "deletable": true,
    "editable": true,
    "hidden": true
   },
   "outputs": [
    {
     "data": {
      "application/javascript": [
       "(new Audio('../s.mp3')).play();"
      ],
      "text/plain": [
       "<IPython.core.display.Javascript object>"
      ]
     },
     "metadata": {},
     "output_type": "display_data"
    }
   ],
   "source": [
    "%%javascript\n",
    "(new Audio('../s.mp3')).play();"
   ]
  },
  {
   "cell_type": "code",
   "execution_count": 9,
   "metadata": {
    "collapsed": false,
    "deletable": true,
    "editable": true,
    "hidden": true
   },
   "outputs": [
    {
     "name": "stdout",
     "output_type": "stream",
     "text": [
      "dbfs:/wbeard/long_s2/s2_201707.msg\n",
      "dbfs:/wbeard/long_s2/s2_201708.msg\n",
      "dbfs:/wbeard/long_s2/s2_201711.msg\n",
      "CPU times: user 5.08 s, sys: 12.5 s, total: 17.5 s\n",
      "Wall time: 5min 22s\n"
     ]
    }
   ],
   "source": [
    "%%time\n",
    "# for dbx_f in dbx_fs[:]:\n",
    "for dbx_f in ['s2_201707.msg', 's2_201708.msg', 's2_201711.msg']:\n",
    "    dbx_loc = join(\"dbfs:/wbeard/long_s2/\", dbx_f)\n",
    "    print(dbx_loc)\n",
    "    !$dbx fs cp $dbx_loc $s2.raw_loc"
   ]
  },
  {
   "cell_type": "markdown",
   "metadata": {
    "deletable": true,
    "editable": true,
    "hidden": true
   },
   "source": [
    "### Convert to parq"
   ]
  },
  {
   "cell_type": "code",
   "execution_count": 17,
   "metadata": {
    "collapsed": true,
    "deletable": true,
    "editable": true,
    "hidden": true
   },
   "outputs": [],
   "source": [
    "# indir = '../data/raw/long_s2/'\n",
    "# outdir = '../data/interim/long_s2/'"
   ]
  },
  {
   "cell_type": "code",
   "execution_count": 17,
   "metadata": {
    "collapsed": false,
    "deletable": true,
    "editable": true,
    "hidden": true
   },
   "outputs": [],
   "source": [
    "def preproc(df):\n",
    "    df = df.copy()\n",
    "    nullbm = df.N_ev == 1\n",
    "    for c in 'Day_ev2 Created2 Seq2'.split():\n",
    "        df = df.copy()\n",
    "        df.loc[nullbm, c] = -1\n",
    "        df[c] = df[c].astype(int)\n",
    "    df.loc[nullbm, 'Ev2'] = [((-1, ''),)] * nullbm.sum()\n",
    "    return df\n",
    "\n",
    "rn2 = {c: c[:-1] for c in 'Ev2 Created2 Seq2'.split()}\n",
    "keepcols = 'Day0str Day_ev2 Last_day Locale_lst Locale_fst N_ev Ret1 Ret7 Ret30'.split()"
   ]
  },
  {
   "cell_type": "markdown",
   "metadata": {
    "deletable": true,
    "editable": true,
    "hidden": true
   },
   "source": [
    "dfm = pd.read_msgpack(msgname)\n",
    "dfm = dfm.rename(columns=bytes.decode).rename(columns=str.capitalize)\n",
    "\n",
    "preproc(dfm[:4])"
   ]
  },
  {
   "cell_type": "markdown",
   "metadata": {
    "deletable": true,
    "editable": true,
    "heading_collapsed": true,
    "hidden": true
   },
   "source": [
    "#### debug"
   ]
  },
  {
   "cell_type": "code",
   "execution_count": 33,
   "metadata": {
    "collapsed": false,
    "deletable": true,
    "editable": true,
    "hidden": true
   },
   "outputs": [],
   "source": [
    "df = pd.read_msgpack('../data/raw/long_s2/s2_201711.msg')[:3]  #.rename(columns=bytes.decode).rename(columns=rn2)\n",
    "df.to_msgpack('/tmp/x.msg')"
   ]
  },
  {
   "cell_type": "code",
   "execution_count": 35,
   "metadata": {
    "collapsed": false,
    "deletable": true,
    "editable": true,
    "hidden": true
   },
   "outputs": [
    {
     "data": {
      "text/html": [
       "<div>\n",
       "<style scoped>\n",
       "    .dataframe tbody tr th:only-of-type {\n",
       "        vertical-align: middle;\n",
       "    }\n",
       "\n",
       "    .dataframe tbody tr th {\n",
       "        vertical-align: top;\n",
       "    }\n",
       "\n",
       "    .dataframe thead th {\n",
       "        text-align: right;\n",
       "    }\n",
       "</style>\n",
       "<table border=\"1\" class=\"dataframe\">\n",
       "  <thead>\n",
       "    <tr style=\"text-align: right;\">\n",
       "      <th></th>\n",
       "      <th>b'client_id'</th>\n",
       "      <th>b'Day0str'</th>\n",
       "      <th>b'Day_ev2'</th>\n",
       "      <th>b'Last_day'</th>\n",
       "      <th>b'Locale_lst'</th>\n",
       "      <th>b'Locale_fst'</th>\n",
       "      <th>b'N_ev'</th>\n",
       "      <th>b'Ev2'</th>\n",
       "      <th>b'Created2'</th>\n",
       "      <th>b'Seq2'</th>\n",
       "      <th>b'Ret1'</th>\n",
       "    </tr>\n",
       "  </thead>\n",
       "  <tbody>\n",
       "    <tr>\n",
       "      <th>0</th>\n",
       "      <td>05cf25b7-7f7c-45d1-b597-d28eed67cf98</td>\n",
       "      <td>20171102</td>\n",
       "      <td>20171107</td>\n",
       "      <td>20171107</td>\n",
       "      <td>en-US</td>\n",
       "      <td>en-US</td>\n",
       "      <td>2</td>\n",
       "      <td>((0, foreground::app::), (8681, type_url::sear...</td>\n",
       "      <td>1.510070e+12</td>\n",
       "      <td>2.0</td>\n",
       "      <td>False</td>\n",
       "    </tr>\n",
       "    <tr>\n",
       "      <th>1</th>\n",
       "      <td>071ed95b-2f56-4de9-9789-a7158c6a9f04</td>\n",
       "      <td>20171107</td>\n",
       "      <td>20171107</td>\n",
       "      <td>20171107</td>\n",
       "      <td>en-US</td>\n",
       "      <td>en-US</td>\n",
       "      <td>2</td>\n",
       "      <td>((101865, foreground::app::), (108873, type_qu...</td>\n",
       "      <td>1.510065e+12</td>\n",
       "      <td>2.0</td>\n",
       "      <td>False</td>\n",
       "    </tr>\n",
       "    <tr>\n",
       "      <th>2</th>\n",
       "      <td>129be804-e2b7-4961-b1fc-74e4aad2bab3</td>\n",
       "      <td>20171116</td>\n",
       "      <td>20171116</td>\n",
       "      <td>20171116</td>\n",
       "      <td>id-ID</td>\n",
       "      <td>id-ID</td>\n",
       "      <td>3</td>\n",
       "      <td>((38773, foreground::app::), (148809, backgrou...</td>\n",
       "      <td>1.510827e+12</td>\n",
       "      <td>2.0</td>\n",
       "      <td>False</td>\n",
       "    </tr>\n",
       "  </tbody>\n",
       "</table>\n",
       "</div>"
      ],
      "text/plain": [
       "                           b'client_id' b'Day0str' b'Day_ev2' b'Last_day'  \\\n",
       "0  05cf25b7-7f7c-45d1-b597-d28eed67cf98   20171102   20171107    20171107   \n",
       "1  071ed95b-2f56-4de9-9789-a7158c6a9f04   20171107   20171107    20171107   \n",
       "2  129be804-e2b7-4961-b1fc-74e4aad2bab3   20171116   20171116    20171116   \n",
       "\n",
       "  b'Locale_lst' b'Locale_fst'  b'N_ev'  \\\n",
       "0         en-US         en-US        2   \n",
       "1         en-US         en-US        2   \n",
       "2         id-ID         id-ID        3   \n",
       "\n",
       "                                              b'Ev2'   b'Created2'  b'Seq2'  \\\n",
       "0  ((0, foreground::app::), (8681, type_url::sear...  1.510070e+12      2.0   \n",
       "1  ((101865, foreground::app::), (108873, type_qu...  1.510065e+12      2.0   \n",
       "2  ((38773, foreground::app::), (148809, backgrou...  1.510827e+12      2.0   \n",
       "\n",
       "   b'Ret1'  \n",
       "0    False  \n",
       "1    False  \n",
       "2    False  "
      ]
     },
     "execution_count": 35,
     "metadata": {},
     "output_type": "execute_result"
    }
   ],
   "source": [
    "df"
   ]
  },
  {
   "cell_type": "code",
   "execution_count": 16,
   "metadata": {
    "collapsed": true,
    "deletable": true,
    "editable": true,
    "hidden": true
   },
   "outputs": [],
   "source": [
    "%mkdir $s2.parq_loc"
   ]
  },
  {
   "cell_type": "code",
   "execution_count": 50,
   "metadata": {
    "collapsed": false,
    "deletable": true,
    "editable": true,
    "hidden": true
   },
   "outputs": [
    {
     "name": "stdout",
     "output_type": "stream",
     "text": [
      "-> /tmp/t/x.msg.parq\n",
      "Missing:  {'Ev2', 'Created2', 'Client_id', 'Seq2'}\n",
      "Extra:  {'Ts', 'Ev', 'Created', 'Cid', 'Seq'}\n"
     ]
    }
   ],
   "source": [
    "df = eu.load_and_flatten('/tmp/x.msg', cid_dct=_le, overwrite=1, outdir='/tmp/t', parq=True, rn=rn2, keepcols=keepcols, preproc=preproc, verbose=True)"
   ]
  },
  {
   "cell_type": "code",
   "execution_count": 47,
   "metadata": {
    "collapsed": false,
    "deletable": true,
    "editable": true,
    "hidden": true
   },
   "outputs": [
    {
     "name": "stdout",
     "output_type": "stream",
     "text": [
      "mkdir: /tmp/t: File exists\n"
     ]
    }
   ],
   "source": [
    "import utils.events_utils as eu; reload(eu);\n",
    "%mkdir /tmp/t\n",
    "_le = defaultdict(lambda ctr=count(): next(ctr))"
   ]
  },
  {
   "cell_type": "markdown",
   "metadata": {
    "deletable": true,
    "editable": true,
    "hidden": true
   },
   "source": [
    "#### debug end"
   ]
  },
  {
   "cell_type": "code",
   "execution_count": 18,
   "metadata": {
    "collapsed": true,
    "deletable": true,
    "editable": true,
    "hidden": true
   },
   "outputs": [],
   "source": [
    "lef = fc.FthDct('../data/interim/cid_long_s2.fth')\n",
    "lef.clear()"
   ]
  },
  {
   "cell_type": "code",
   "execution_count": 19,
   "metadata": {
    "collapsed": false,
    "deletable": true,
    "editable": true,
    "hidden": true
   },
   "outputs": [
    {
     "name": "stdout",
     "output_type": "stream",
     "text": [
      "../data/raw/long_s2/s2_201707.msg\n",
      "-> /Users/wbeard/repos/events/data/interim/long_s2/s2_201707.msg.parq\n",
      "Missing:  {'Ev2', 'Created2', 'Client_id', 'Seq2'}\n",
      "Extra:  {'Ev', 'Ts', 'Created', 'Cid', 'Seq'}\n",
      "CPU times: user 1min 24s, sys: 6.18 s, total: 1min 30s\n",
      "Wall time: 1min 31s\n",
      "3,539,431\n",
      "../data/raw/long_s2/s2_201708.msg\n",
      "-> /Users/wbeard/repos/events/data/interim/long_s2/s2_201708.msg.parq\n",
      "CPU times: user 1min 4s, sys: 3.86 s, total: 1min 8s\n",
      "Wall time: 1min 9s\n",
      "2,695,238\n",
      "../data/raw/long_s2/s2_201709.msg\n",
      "-> /Users/wbeard/repos/events/data/interim/long_s2/s2_201709.msg.parq\n",
      "CPU times: user 1min 18s, sys: 5.21 s, total: 1min 23s\n",
      "Wall time: 1min 25s\n",
      "3,075,929\n",
      "../data/raw/long_s2/s2_201710.msg\n",
      "-> /Users/wbeard/repos/events/data/interim/long_s2/s2_201710.msg.parq\n",
      "CPU times: user 1min 11s, sys: 5.25 s, total: 1min 16s\n",
      "Wall time: 1min 18s\n",
      "2,325,852\n",
      "../data/raw/long_s2/s2_201711.msg\n",
      "-> /Users/wbeard/repos/events/data/interim/long_s2/s2_201711.msg.parq\n",
      "CPU times: user 1min 10s, sys: 5.23 s, total: 1min 15s\n",
      "Wall time: 1min 17s\n",
      "2,431,051\n"
     ]
    }
   ],
   "source": [
    "for i, msgname in enumerate(glob(join(s2.raw_loc, '*.msg'))):\n",
    "    print(msgname)\n",
    "    %time df = eu.load_and_flatten(msgname, cid_dct=lef, overwrite=0, outdir=s2.parq_loc, parq=True, rn=rn2, keepcols=keepcols, preproc=preproc, verbose=not i)\n",
    "    print('{:,.0f}'.format(len(df)))\n",
    "lef.save()"
   ]
  },
  {
   "cell_type": "code",
   "execution_count": 104,
   "metadata": {
    "collapsed": false,
    "deletable": true,
    "editable": true,
    "hidden": true
   },
   "outputs": [
    {
     "data": {
      "text/html": [
       "<div>\n",
       "<style scoped>\n",
       "    .dataframe tbody tr th:only-of-type {\n",
       "        vertical-align: middle;\n",
       "    }\n",
       "\n",
       "    .dataframe tbody tr th {\n",
       "        vertical-align: top;\n",
       "    }\n",
       "\n",
       "    .dataframe thead th {\n",
       "        text-align: right;\n",
       "    }\n",
       "</style>\n",
       "<table border=\"1\" class=\"dataframe\">\n",
       "  <thead>\n",
       "    <tr style=\"text-align: right;\">\n",
       "      <th></th>\n",
       "      <th>Day1</th>\n",
       "      <th>Day_ev2</th>\n",
       "      <th>Last_day</th>\n",
       "      <th>N_ev</th>\n",
       "      <th>Cid</th>\n",
       "      <th>Seq</th>\n",
       "      <th>Created</th>\n",
       "      <th>Ev</th>\n",
       "      <th>Ts</th>\n",
       "    </tr>\n",
       "  </thead>\n",
       "  <tbody>\n",
       "    <tr>\n",
       "      <th>0</th>\n",
       "      <td>20171104</td>\n",
       "      <td>-1</td>\n",
       "      <td>20171104</td>\n",
       "      <td>1</td>\n",
       "      <td>2768527</td>\n",
       "      <td>-1</td>\n",
       "      <td>-1</td>\n",
       "      <td></td>\n",
       "      <td>-1</td>\n",
       "    </tr>\n",
       "    <tr>\n",
       "      <th>1</th>\n",
       "      <td>20171101</td>\n",
       "      <td>20171101</td>\n",
       "      <td>20171104</td>\n",
       "      <td>10</td>\n",
       "      <td>2768528</td>\n",
       "      <td>9</td>\n",
       "      <td>1509781325304</td>\n",
       "      <td>intent_url::app::</td>\n",
       "      <td>0</td>\n",
       "    </tr>\n",
       "    <tr>\n",
       "      <th>2</th>\n",
       "      <td>20171101</td>\n",
       "      <td>20171101</td>\n",
       "      <td>20171104</td>\n",
       "      <td>10</td>\n",
       "      <td>2768528</td>\n",
       "      <td>9</td>\n",
       "      <td>1509781325304</td>\n",
       "      <td>foreground::app::</td>\n",
       "      <td>710</td>\n",
       "    </tr>\n",
       "  </tbody>\n",
       "</table>\n",
       "</div>"
      ],
      "text/plain": [
       "       Day1   Day_ev2  Last_day  N_ev      Cid  Seq        Created  \\\n",
       "0  20171104        -1  20171104     1  2768527   -1             -1   \n",
       "1  20171101  20171101  20171104    10  2768528    9  1509781325304   \n",
       "2  20171101  20171101  20171104    10  2768528    9  1509781325304   \n",
       "\n",
       "                  Ev   Ts  \n",
       "0                      -1  \n",
       "1  intent_url::app::    0  \n",
       "2  foreground::app::  710  "
      ]
     },
     "execution_count": 104,
     "metadata": {},
     "output_type": "execute_result"
    }
   ],
   "source": [
    "df[:3]"
   ]
  },
  {
   "cell_type": "markdown",
   "metadata": {
    "deletable": true,
    "editable": true,
    "heading_collapsed": true
   },
   "source": [
    "## Load Onboarding A/B"
   ]
  },
  {
   "cell_type": "markdown",
   "metadata": {
    "ExecuteTime": {
     "end_time": "2018-01-04T19:01:44.769765Z",
     "start_time": "2018-01-04T19:01:44.645714Z"
    },
    "deletable": true,
    "editable": true,
    "hidden": true
   },
   "source": [
    "%mkdir '../data/raw/onboarding'"
   ]
  },
  {
   "cell_type": "code",
   "execution_count": 13,
   "metadata": {
    "ExecuteTime": {
     "end_time": "2018-02-07T15:04:11.888550Z",
     "start_time": "2018-02-07T15:04:05.375737Z"
    },
    "collapsed": false,
    "deletable": true,
    "editable": true,
    "hidden": true
   },
   "outputs": [
    {
     "name": "stdout",
     "output_type": "stream",
     "text": [
      "dbfs:/wbeard/onboarding/maxday_20180201.msg => ../data/raw/onboarding\n"
     ]
    },
    {
     "data": {
      "text/plain": [
       "(['maxday_20180201.msg'], ['maxday_20171230.msg'])"
      ]
     },
     "execution_count": 13,
     "metadata": {},
     "output_type": "execute_result"
    }
   ],
   "source": [
    "move_new('onboarding', outdir=None, outdir_base='../data/raw/')"
   ]
  },
  {
   "cell_type": "code",
   "execution_count": 14,
   "metadata": {
    "ExecuteTime": {
     "end_time": "2018-02-07T15:04:45.206531Z",
     "start_time": "2018-02-07T15:04:45.055580Z"
    },
    "collapsed": true,
    "deletable": true,
    "editable": true,
    "hidden": true
   },
   "outputs": [],
   "source": [
    "df = pd.read_msgpack('../data/raw/onboarding/maxday_20180201.msg')"
   ]
  },
  {
   "cell_type": "code",
   "execution_count": 16,
   "metadata": {
    "ExecuteTime": {
     "end_time": "2018-02-07T15:04:52.277555Z",
     "start_time": "2018-02-07T15:04:52.270880Z"
    },
    "collapsed": false,
    "deletable": true,
    "editable": true,
    "hidden": true
   },
   "outputs": [
    {
     "data": {
      "text/plain": [
       "35955"
      ]
     },
     "execution_count": 16,
     "metadata": {},
     "output_type": "execute_result"
    }
   ],
   "source": [
    "/len df"
   ]
  },
  {
   "cell_type": "code",
   "execution_count": 17,
   "metadata": {
    "ExecuteTime": {
     "end_time": "2018-02-07T15:05:00.574649Z",
     "start_time": "2018-02-07T15:05:00.502764Z"
    },
    "collapsed": false,
    "deletable": true,
    "editable": true,
    "hidden": true
   },
   "outputs": [
    {
     "data": {
      "text/html": [
       "<div>\n",
       "<style scoped>\n",
       "    .dataframe tbody tr th:only-of-type {\n",
       "        vertical-align: middle;\n",
       "    }\n",
       "\n",
       "    .dataframe tbody tr th {\n",
       "        vertical-align: top;\n",
       "    }\n",
       "\n",
       "    .dataframe thead th {\n",
       "        text-align: right;\n",
       "    }\n",
       "</style>\n",
       "<table border=\"1\" class=\"dataframe\">\n",
       "  <thead>\n",
       "    <tr style=\"text-align: right;\">\n",
       "      <th></th>\n",
       "      <th>b'Day0str'</th>\n",
       "      <th>b'Day0'</th>\n",
       "      <th>b'Onboarding'</th>\n",
       "      <th>b'Ret1'</th>\n",
       "      <th>b'Ret7'</th>\n",
       "      <th>b'Se0'</th>\n",
       "      <th>b'Se_fin'</th>\n",
       "      <th>b'Locale_fst'</th>\n",
       "    </tr>\n",
       "  </thead>\n",
       "  <tbody>\n",
       "    <tr>\n",
       "      <th>0</th>\n",
       "      <td>20171227</td>\n",
       "      <td>2017-12-27</td>\n",
       "      <td>(ios_onboarding_v1, 0)</td>\n",
       "      <td>True</td>\n",
       "      <td>True</td>\n",
       "      <td>DuckDuckGo</td>\n",
       "      <td>DuckDuckGo</td>\n",
       "      <td>es-ES</td>\n",
       "    </tr>\n",
       "    <tr>\n",
       "      <th>1</th>\n",
       "      <td>20180101</td>\n",
       "      <td>2018-01-01</td>\n",
       "      <td>(ios_onboarding_v1, 0)</td>\n",
       "      <td>False</td>\n",
       "      <td>False</td>\n",
       "      <td>Amazon.com</td>\n",
       "      <td>Google</td>\n",
       "      <td>en-US</td>\n",
       "    </tr>\n",
       "    <tr>\n",
       "      <th>2</th>\n",
       "      <td>20171220</td>\n",
       "      <td>2017-12-20</td>\n",
       "      <td>(ios_onboarding_v1, 0)</td>\n",
       "      <td>False</td>\n",
       "      <td>False</td>\n",
       "      <td>Amazon.com</td>\n",
       "      <td>Amazon.com</td>\n",
       "      <td>en-US</td>\n",
       "    </tr>\n",
       "    <tr>\n",
       "      <th>3</th>\n",
       "      <td>20180104</td>\n",
       "      <td>2018-01-04</td>\n",
       "      <td>(previous_first_run, 0)</td>\n",
       "      <td>False</td>\n",
       "      <td>False</td>\n",
       "      <td>Amazon.com</td>\n",
       "      <td>Yahoo</td>\n",
       "      <td>en-US</td>\n",
       "    </tr>\n",
       "  </tbody>\n",
       "</table>\n",
       "</div>"
      ],
      "text/plain": [
       "  b'Day0str'    b'Day0'            b'Onboarding'  b'Ret1'  b'Ret7'  \\\n",
       "0   20171227 2017-12-27   (ios_onboarding_v1, 0)     True     True   \n",
       "1   20180101 2018-01-01   (ios_onboarding_v1, 0)    False    False   \n",
       "2   20171220 2017-12-20   (ios_onboarding_v1, 0)    False    False   \n",
       "3   20180104 2018-01-04  (previous_first_run, 0)    False    False   \n",
       "\n",
       "       b'Se0'   b'Se_fin' b'Locale_fst'  \n",
       "0  DuckDuckGo  DuckDuckGo         es-ES  \n",
       "1  Amazon.com      Google         en-US  \n",
       "2  Amazon.com  Amazon.com         en-US  \n",
       "3  Amazon.com       Yahoo         en-US  "
      ]
     },
     "execution_count": 17,
     "metadata": {},
     "output_type": "execute_result"
    }
   ],
   "source": [
    "df[:4]"
   ]
  },
  {
   "cell_type": "code",
   "execution_count": 8,
   "metadata": {
    "ExecuteTime": {
     "end_time": "2018-01-04T19:01:25.592871Z",
     "start_time": "2018-01-04T19:01:25.581262Z"
    },
    "collapsed": false,
    "deletable": true,
    "editable": true,
    "hidden": true,
    "scrolled": false
   },
   "outputs": [
    {
     "ename": "NameError",
     "evalue": "name 'onboarding' is not defined",
     "output_type": "error",
     "traceback": [
      "\u001b[1;31m---------------------------------------------------------------------------\u001b[0m",
      "\u001b[1;31mNameError\u001b[0m                                 Traceback (most recent call last)",
      "\u001b[1;32m<ipython-input-8-58f87d51b1b4>\u001b[0m in \u001b[0;36m<module>\u001b[1;34m()\u001b[0m\n\u001b[1;32m----> 1\u001b[1;33m \u001b[0monboarding\u001b[0m\u001b[1;33m/\u001b[0m\u001b[0mmaxday_20171230\u001b[0m\u001b[1;33m.\u001b[0m\u001b[0mmsg\u001b[0m\u001b[1;33m\u001b[0m\u001b[0m\n\u001b[0m",
      "\u001b[1;31mNameError\u001b[0m: name 'onboarding' is not defined"
     ]
    }
   ],
   "source": [
    "onboarding/maxday_20171230.msg"
   ]
  },
  {
   "cell_type": "markdown",
   "metadata": {
    "deletable": true,
    "editable": true
   },
   "source": [
    "## OOM"
   ]
  },
  {
   "cell_type": "code",
   "execution_count": 1,
   "metadata": {
    "ExecuteTime": {
     "end_time": "2018-02-09T18:24:11.267425Z",
     "start_time": "2018-02-09T18:24:11.009195Z"
    },
    "collapsed": true,
    "deletable": true,
    "editable": true
   },
   "outputs": [],
   "source": [
    "%mkdir '../data/raw/new_profile'"
   ]
  },
  {
   "cell_type": "code",
   "execution_count": null,
   "metadata": {
    "collapsed": true
   },
   "outputs": [],
   "source": [
    "def confirm_fns(fs):\n",
    "    # - sort by date\n",
    "    print()"
   ]
  },
  {
   "cell_type": "code",
   "execution_count": 19,
   "metadata": {
    "ExecuteTime": {
     "end_time": "2018-02-28T21:44:45.749693Z",
     "start_time": "2018-02-28T21:44:15.677000Z"
    },
    "collapsed": false,
    "deletable": true,
    "editable": true
   },
   "outputs": [
    {
     "name": "stdout",
     "output_type": "stream",
     "text": [
      "dbfs:/wbeard/oom/pings/p_0125.json => ../data/raw/oom/pings/\n"
     ]
    },
    {
     "data": {
      "text/plain": [
       "(['p_0125.json'],\n",
       " ['p_0115.json',\n",
       "  'p_0116.json',\n",
       "  'p_0117.json',\n",
       "  'p_0118.json',\n",
       "  'p_0119.json',\n",
       "  'p_0120.json',\n",
       "  'p_0121.json',\n",
       "  'p_0122.json',\n",
       "  'p_0124_slim.json'])"
      ]
     },
     "execution_count": 19,
     "metadata": {},
     "output_type": "execute_result"
    }
   ],
   "source": [
    "move_new('oom/pings', outdir='../data/raw/oom/pings/', outdir_base='../data/raw/oom/pings/')"
   ]
  },
  {
   "cell_type": "code",
   "execution_count": null,
   "metadata": {
    "collapsed": true,
    "deletable": true,
    "editable": true
   },
   "outputs": [],
   "source": [
    "tmpdecomp2\n",
    "dbx fs cp dbfs:/wbeard/oom/main_20180101_20180201.msg  ../../ts-focus/data/raw/oom/"
   ]
  },
  {
   "cell_type": "code",
   "execution_count": 7,
   "metadata": {},
   "outputs": [],
   "source": []
  },
  {
   "cell_type": "code",
   "execution_count": 11,
   "metadata": {},
   "outputs": [
    {
     "name": "stdout",
     "output_type": "stream",
     "text": [
      "Found pq file part-00000-tid-2707467087415157492-a60a39e7-af1c-47bf-b87e-a7e131f66374-254238-c000.snappy.parquet\n",
      "download: s3://mozilla-databricks-telemetry-test/wbeard/new_profile/nprof_20170101_20180101.parq/part-00000-tid-2707467087415157492-a60a39e7-af1c-47bf-b87e-a7e131f66374-254238-c000.snappy.parquet to data/new_profile/nprof_20170101_20180101.parq\n"
     ]
    },
    {
     "data": {
      "text/plain": [
       "'data/new_profile/nprof_20170101_20180101.parq'"
      ]
     },
     "execution_count": 11,
     "metadata": {},
     "output_type": "execute_result"
    }
   ],
   "source": [
    "mv_s3_pq(from_dir='new_profile', to_dir='data/new_profile', fn='nprof_20170101_20180101.parq')"
   ]
  },
  {
   "cell_type": "code",
   "execution_count": 9,
   "metadata": {},
   "outputs": [],
   "source": [
    "%mkdir data/p26_8"
   ]
  },
  {
   "cell_type": "code",
   "execution_count": 12,
   "metadata": {},
   "outputs": [
    {
     "name": "stdout",
     "output_type": "stream",
     "text": [
      "download: s3://mozilla-databricks-telemetry-test/wbeard/crash_pings/p_20180126_20180128_eq_42.parq/_SUCCESS to data/p26_8/_SUCCESS\n",
      "download: s3://mozilla-databricks-telemetry-test/wbeard/crash_pings/p_20180126_20180128_eq_42.parq/_committed_6840194297520358502 to data/p26_8/_committed_6840194297520358502\n",
      "download: s3://mozilla-databricks-telemetry-test/wbeard/crash_pings/p_20180126_20180128_eq_42.parq/_started_6840194297520358502 to data/p26_8/_started_6840194297520358502\n",
      "download: s3://mozilla-databricks-telemetry-test/wbeard/crash_pings/p_20180126_20180128_eq_42.parq/part-00002-tid-6840194297520358502-d54968ad-db37-4285-8f8c-e2e58808f762-0-c000.snappy.parquet to data/p26_8/part-00002-tid-6840194297520358502-d54968ad-db37-4285-8f8c-e2e58808f762-0-c000.snappy.parquet\n",
      "download: s3://mozilla-databricks-telemetry-test/wbeard/crash_pings/p_20180126_20180128_eq_42.parq/part-00000-tid-6840194297520358502-d54968ad-db37-4285-8f8c-e2e58808f762-0-c000.snappy.parquet to data/p26_8/part-00000-tid-6840194297520358502-d54968ad-db37-4285-8f8c-e2e58808f762-0-c000.snappy.parquet\n",
      "download: s3://mozilla-databricks-telemetry-test/wbeard/crash_pings/p_20180126_20180128_eq_42.parq/part-00001-tid-6840194297520358502-d54968ad-db37-4285-8f8c-e2e58808f762-0-c000.snappy.parquet to data/p26_8/part-00001-tid-6840194297520358502-d54968ad-db37-4285-8f8c-e2e58808f762-0-c000.snappy.parquet\n"
     ]
    }
   ],
   "source": [
    "!aws s3 sync 's3://mozilla-databricks-telemetry-test/wbeard/crash_pings/p_201801' data/p29_0202"
   ]
  },
  {
   "cell_type": "markdown",
   "metadata": {},
   "source": [
    "## Custom tab Focus"
   ]
  },
  {
   "cell_type": "code",
   "execution_count": 12,
   "metadata": {},
   "outputs": [],
   "source": [
    "%mkdir ../data/cust_tab"
   ]
  },
  {
   "cell_type": "code",
   "execution_count": 13,
   "metadata": {},
   "outputs": [],
   "source": [
    "s3share = 's3://mozilla-databricks-telemetry-test/wbeard/'"
   ]
  },
  {
   "cell_type": "code",
   "execution_count": 17,
   "metadata": {},
   "outputs": [
    {
     "data": {
      "text/plain": [
       "'/Users/wbeard/repos/ts-focus/notebooks'"
      ]
     },
     "execution_count": 17,
     "metadata": {},
     "output_type": "execute_result"
    }
   ],
   "source": [
    "pwd"
   ]
  },
  {
   "cell_type": "code",
   "execution_count": 22,
   "metadata": {},
   "outputs": [],
   "source": [
    "mv data/share/d1ret.parq ../data/share/"
   ]
  },
  {
   "cell_type": "code",
   "execution_count": 18,
   "metadata": {},
   "outputs": [
    {
     "name": "stdout",
     "output_type": "stream",
     "text": [
      "d1ret.parq\n"
     ]
    }
   ],
   "source": [
    "ls data/share/"
   ]
  },
  {
   "cell_type": "code",
   "execution_count": 18,
   "metadata": {},
   "outputs": [
    {
     "name": "stdout",
     "output_type": "stream",
     "text": [
      "Found pq file part-00000-tid-794809823562251692-12a303db-ac09-44f3-979a-06ce9fe57e61-2192613-c000.snappy.parquet\n",
      "download: s3://mozilla-databricks-telemetry-test/wbeard/focus_custom_tab/day_meth_20180315.parq/part-00000-tid-794809823562251692-12a303db-ac09-44f3-979a-06ce9fe57e61-2192613-c000.snappy.parquet to ../data/cust_tab/day_meth_20180315.parq\n"
     ]
    },
    {
     "data": {
      "text/plain": [
       "'../data/cust_tab/day_meth_20180315.parq'"
      ]
     },
     "execution_count": 18,
     "metadata": {},
     "output_type": "execute_result"
    }
   ],
   "source": [
    "mv_s3_pq(from_dir='focus_custom_tab', to_dir='../data/cust_tab', fn='day_meth_20180315.parq')"
   ]
  },
  {
   "cell_type": "markdown",
   "metadata": {},
   "source": [
    "## Share A/B test"
   ]
  },
  {
   "cell_type": "code",
   "execution_count": 7,
   "metadata": {},
   "outputs": [],
   "source": [
    "%mkdir ../data/share"
   ]
  },
  {
   "cell_type": "code",
   "execution_count": 9,
   "metadata": {},
   "outputs": [],
   "source": [
    "s3share = 's3://mozilla-databricks-telemetry-test/wbeard/focus_share'"
   ]
  },
  {
   "cell_type": "code",
   "execution_count": 17,
   "metadata": {},
   "outputs": [
    {
     "data": {
      "text/plain": [
       "'/Users/wbeard/repos/ts-focus/notebooks'"
      ]
     },
     "execution_count": 17,
     "metadata": {},
     "output_type": "execute_result"
    }
   ],
   "source": [
    "pwd"
   ]
  },
  {
   "cell_type": "code",
   "execution_count": 19,
   "metadata": {},
   "outputs": [],
   "source": [
    "ls "
   ]
  },
  {
   "cell_type": "code",
   "execution_count": 22,
   "metadata": {},
   "outputs": [],
   "source": [
    "mv data/share/d1ret.parq ../data/share/"
   ]
  },
  {
   "cell_type": "code",
   "execution_count": 18,
   "metadata": {},
   "outputs": [
    {
     "name": "stdout",
     "output_type": "stream",
     "text": [
      "d1ret.parq\n"
     ]
    }
   ],
   "source": [
    "ls data/share/"
   ]
  },
  {
   "cell_type": "code",
   "execution_count": 24,
   "metadata": {},
   "outputs": [
    {
     "name": "stdout",
     "output_type": "stream",
     "text": [
      "Found pq file part-00000-tid-3778345720412391848-b9b23223-a85e-4439-8ec3-9386fcf823af-288996-c000.snappy.parquet\n",
      "download: s3://mozilla-databricks-telemetry-test/wbeard/focus_share/d1ret2.parq/part-00000-tid-3778345720412391848-b9b23223-a85e-4439-8ec3-9386fcf823af-288996-c000.snappy.parquet to ../data/share/d1ret2.parq\n"
     ]
    },
    {
     "data": {
      "text/plain": [
       "'../data/share/d1ret2.parq'"
      ]
     },
     "execution_count": 24,
     "metadata": {},
     "output_type": "execute_result"
    }
   ],
   "source": [
    "mv_s3_pq(from_dir='focus_share', to_dir='../data/share', fn='d1ret2.parq')"
   ]
  },
  {
   "cell_type": "markdown",
   "metadata": {},
   "source": [
    "## Tre"
   ]
  },
  {
   "cell_type": "code",
   "execution_count": 63,
   "metadata": {},
   "outputs": [],
   "source": [
    "toks = re.split('[^A-Za-z]', 'mozilla-databricks-telemetry-test/wbeard/crash_pings/p_20180126_20180128_eq_42.parq')\n",
    "toks = lfilter(None, toks)\n",
    "\n",
    "def gen_str(upto=1000):\n",
    "    zero = nr.rand() > .7\n",
    "    if zero:\n",
    "        return []\n",
    "    n = nr.randint(0, upto)\n",
    "    return nr.choice(toks, size=n)\n",
    "\n",
    "nr.seed(0)\n",
    "str_l = [gen_str() for _ in range(100000)]\n",
    "\n",
    "sl = Series(str_l)\n",
    "sa = sl.map(lambda x: np.array(x, dtype=object))\n",
    "\n",
    "_dct = defaultdict(lambda ctr=count(): next(ctr))\n",
    "si = sa.map(lambda xs: np.array(lmap(_dct.__getitem__, xs), dtype=int))\n",
    "Series.d = lambda x: x.to_frame().rename(columns=str)"
   ]
  },
  {
   "cell_type": "code",
   "execution_count": 64,
   "metadata": {},
   "outputs": [
    {
     "name": "stdout",
     "output_type": "stream",
     "text": [
      "CPU times: user 5.57 s, sys: 1.63 s, total: 7.2 s\n",
      "Wall time: 7.75 s\n",
      "CPU times: user 2.31 s, sys: 1.12 s, total: 3.42 s\n",
      "Wall time: 3.43 s\n"
     ]
    }
   ],
   "source": [
    "fn = \"/tmp/x.parq\"\n",
    "!rm $fn\n",
    "sad = sa.d()\n",
    "%time sad.to_parquet(fn)\n",
    "sid = si.d()\n",
    "%time sid.to_parquet(fn)"
   ]
  },
  {
   "cell_type": "markdown",
   "metadata": {},
   "source": [
    "## Retention"
   ]
  },
  {
   "cell_type": "code",
   "execution_count": 7,
   "metadata": {},
   "outputs": [
    {
     "name": "stdout",
     "output_type": "stream",
     "text": [
      "^C\n",
      "ERROR: File s3://net-mozaws-prod-us-west-2-pipeline-analysis/sguha/tmp/retention_samples_2016-08-01_2017-12-01.pqt not found\n",
      "\n",
      "Possible options:\n",
      "\t                            PRE a11pq/\n",
      "\t                           PRE a11pqall/\n",
      "\t                           PRE bsexample/\n",
      "\t                           PRE bsexample2/\n",
      "\t                           PRE churnsamples/\n",
      "\t                           PRE one/\n",
      "\t                           PRE pqs/\n",
      "\t                           PRE pqs2/\n",
      "\t                           PRE pqs2obs/\n",
      "\t                           PRE retention_samples_2016-08-01_2017-12-01.csv/\n",
      "\t                           PRE retention_samples_2016-08-01_2017-12-01.pqt/\n",
      "\t                           PRE x.csv/\n",
      "\t                           PRE x2.csv/\n"
     ]
    }
   ],
   "source": [
    "base = 's3://net-mozaws-prod-us-west-2-pipeline-analysis/sguha/tmp/'\n",
    "pqdir = 'retention_samples_2016-08-01_2017-12-01.pqt'\n",
    "mv_s3_pq(from_dir='', to_dir='../../tte/data/raw/', fn=pqdir, s3base=base)"
   ]
  },
  {
   "cell_type": "markdown",
   "metadata": {},
   "source": [
    "## Ipc"
   ]
  },
  {
   "cell_type": "code",
   "execution_count": 6,
   "metadata": {},
   "outputs": [],
   "source": [
    "ls ../../ipc/data/raw/"
   ]
  },
  {
   "cell_type": "code",
   "execution_count": 8,
   "metadata": {},
   "outputs": [],
   "source": [
    "local_dir = '../../ipc/data/raw/'\n",
    "base = 's3://net-mozaws-prod-us-west-2-pipeline-analysis/wbeard/ipc/'"
   ]
  },
  {
   "cell_type": "code",
   "execution_count": 32,
   "metadata": {},
   "outputs": [
    {
     "name": "stdout",
     "output_type": "stream",
     "text": [
      "Found pq file part-00000-tid-3179433506591924477-7c90a292-abf3-44e3-98b3-7213773c5a1d-10458612-c000.json\n",
      "download: s3://net-mozaws-prod-us-west-2-pipeline-analysis/wbeard/ipc/samp.json/part-00000-tid-3179433506591924477-7c90a292-abf3-44e3-98b3-7213773c5a1d-10458612-c000.json to ../data/raw/samp.json\n"
     ]
    },
    {
     "data": {
      "text/plain": [
       "'../../ipc/data/raw/samp.json'"
      ]
     },
     "execution_count": 32,
     "metadata": {},
     "output_type": "execute_result"
    }
   ],
   "source": [
    "# base = 'dbfs:/wbeard/apb/'\n",
    "pqdir = 'samp.json'\n",
    "# pqdir = 'abc'\n",
    "\n",
    "mv_s3_pq(from_dir='', to_dir=local_dir, fn=pqdir, s3base=base, ext='json')"
   ]
  },
  {
   "cell_type": "code",
   "execution_count": 24,
   "metadata": {},
   "outputs": [
    {
     "name": "stdout",
     "output_type": "stream",
     "text": [
      "s3://net-mozaws-prod-us-west-2-pipeline-analysis/wbeard/ipc/samp.json\n",
      "fatal error: An error occurred (404) when calling the HeadObject operation: Key \"wbeard/ipc/samp.json\" does not exist\n"
     ]
    }
   ],
   "source": [
    "json_file = join(base, pqdir)\n",
    "print(json_file)\n",
    "!aws s3 cp \"$json_file\" \"$local_dir\""
   ]
  },
  {
   "cell_type": "code",
   "execution_count": 27,
   "metadata": {},
   "outputs": [
    {
     "name": "stdout",
     "output_type": "stream",
     "text": [
      "2018-11-28 12:23:24          0 _SUCCESS\n",
      "2018-11-28 12:23:24        117 _committed_3179433506591924477\n",
      "2018-11-28 12:23:23          0 _started_3179433506591924477\n",
      "2018-11-28 12:23:24      51818 part-00000-tid-3179433506591924477-7c90a292-abf3-44e3-98b3-7213773c5a1d-10458612-c000.json\n"
     ]
    }
   ],
   "source": [
    "!aws s3 ls \"$json_file/\""
   ]
  },
  {
   "cell_type": "raw",
   "metadata": {},
   "source": [
    "_fns = !$dbx fs ls 'dbfs:/wbeard/ipc/'\n",
    "_fns = [f for f in _fns if not path.exists(join(local_dir, f))]\n",
    "print(_fns)"
   ]
  },
  {
   "cell_type": "raw",
   "metadata": {},
   "source": [
    "!$dbx fs cp \"dbfs:/wbeard/apb/cid_ret_1122.pq\" $local_dir"
   ]
  },
  {
   "cell_type": "raw",
   "metadata": {},
   "source": [
    "# _fns = 'r23-25_counts.json r23-25_prompt.json r23-25_settings.json'.split()\n",
    "for _fn in _fns:\n",
    "    fn = join('dbfs:/wbeard/apb/day', _fn)\n",
    "    print(fn)\n",
    "    !$dbx fs cp $fn $local_dir"
   ]
  },
  {
   "cell_type": "code",
   "execution_count": null,
   "metadata": {},
   "outputs": [],
   "source": [
    "\n",
    "\n",
    "\n",
    "\n"
   ]
  }
 ],
 "metadata": {
  "kernelspec": {
   "display_name": "Python 3",
   "language": "python",
   "name": "python3"
  },
  "language_info": {
   "codemirror_mode": {
    "name": "ipython",
    "version": 3
   },
   "file_extension": ".py",
   "mimetype": "text/x-python",
   "name": "python",
   "nbconvert_exporter": "python",
   "pygments_lexer": "ipython3",
   "version": "3.6.6"
  },
  "toc": {
   "nav_menu": {},
   "number_sections": true,
   "sideBar": true,
   "skip_h1_title": false,
   "toc_cell": true,
   "toc_position": {},
   "toc_section_display": "block",
   "toc_window_display": false
  }
 },
 "nbformat": 4,
 "nbformat_minor": 2
}
