{
 "cells": [
  {
   "cell_type": "markdown",
   "metadata": {},
   "source": [
    "This notebook (\"\") tries to download all recent experiments via dbx"
   ]
  },
  {
   "cell_type": "code",
   "execution_count": 1,
   "metadata": {},
   "outputs": [],
   "source": [
    "from boot_utes import (reload, add_path, path, run_magics)\n",
    "add_path('..', '../src/', '~/repos/myutils/', )\n",
    "\n",
    "from utils.{{ cookiecutter.repo_name }}_imps import *; exec(pu.DFCols_str); exec(pu.qexpr_str); run_magics()\n",
    "# import utils.en_utils as eu; import data.load_data as ld; exec(eu.sort_dfs_str)\n",
    "\n",
    "sns.set_style('whitegrid')\n",
    "A.data_transformers.enable('json', prefix='data/altair-data')\n",
    "S = Series; D = DataFrame\n",
    "\n",
    "from big_query import read_gbq\n",
    "from pyspark_utils import C, spark, sql\n",
    "\n",
    "import warnings\n",
    "from matplotlib import MatplotlibDeprecationWarning\n",
    "warnings.filterwarnings(\"ignore\", category=MatplotlibDeprecationWarning)"
   ]
  },
  {
   "cell_type": "code",
   "execution_count": 4,
   "metadata": {},
   "outputs": [],
   "source": []
  },
  {
   "cell_type": "markdown",
   "metadata": {},
   "source": [
    "# Load"
   ]
  }
 ],
 "metadata": {
  "jupytext": {
   "formats": "ipynb,py:percent",
   "text_representation": {
    "extension": ".py",
    "format_name": "percent",
    "format_version": "1.2",
    "jupytext_version": "0.8.6"
   }
  },
  "kernelspec": {
   "display_name": "Python 3",
   "language": "python",
   "name": "python3"
  },
  "language_info": {
   "codemirror_mode": {
    "name": "ipython",
    "version": 3
   },
   "file_extension": ".py",
   "mimetype": "text/x-python",
   "name": "python",
   "nbconvert_exporter": "python",
   "pygments_lexer": "ipython3",
   "version": "3.6.8"
  }
 },
 "nbformat": 4,
 "nbformat_minor": 2
}
